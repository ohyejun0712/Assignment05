{
  "nbformat": 4,
  "nbformat_minor": 0,
  "metadata": {
    "colab": {
      "provenance": []
    },
    "kernelspec": {
      "name": "python3",
      "display_name": "Python 3"
    },
    "language_info": {
      "name": "python"
    }
  },
  "cells": [
    {
      "cell_type": "markdown",
      "source": [],
      "metadata": {
        "id": "63MlcwsPs6lL"
      }
    },
    {
      "cell_type": "markdown",
      "source": [
        "#1. Heap.py를 이용 생일 느린 순으로 배열"
      ],
      "metadata": {
        "id": "iDMBnAurs80f"
      }
    },
    {
      "cell_type": "code",
      "source": [
        "import pandas as pd\n",
        "import heapq\n",
        "from datetime import datetime\n",
        "\n",
        "df = pd.read_excel(\"birthday.csv.xlsx\")\n",
        "\n",
        "birthday_heap = []\n",
        "\n",
        "for index, row in df.iterrows():\n",
        "    name = row[\"이름\"]\n",
        "    birth_raw = row[\"생년월일8자리(예.20040101)\"]\n",
        "\n",
        "    if pd.isna(birth_raw):\n",
        "        continue\n",
        "\n",
        "    if isinstance(birth_raw, (int, float)):\n",
        "        birth_str = str(int(birth_raw))\n",
        "    else:\n",
        "        birth_str = str(birth_raw)\n",
        "\n",
        "    try:\n",
        "        birthday = datetime.strptime(birth_str, \"%Y%m%d\")\n",
        "    except ValueError:\n",
        "        print(f\"생일 형식 오류: {birth_str} (이 사람은 건너뜁니다.)\")\n",
        "        continue\n",
        "\n",
        "    heapq.heappush(birthday_heap, (-birthday.timestamp(), name, birthday.date()))\n",
        "\n",
        "for _ in range(min(10, len(birthday_heap))):\n",
        "    _, name, birthday = heapq.heappop(birthday_heap)\n",
        "    print(f\"{name} - {birthday}\")\n"
      ],
      "metadata": {
        "colab": {
          "base_uri": "https://localhost:8080/"
        },
        "id": "z3tjoAN_wCo-",
        "outputId": "2e150e23-7a02-4c72-f5cf-7e0ed9fcef85"
      },
      "execution_count": null,
      "outputs": [
        {
          "output_type": "stream",
          "name": "stdout",
          "text": [
            "생일 형식 오류: 20241282 (이 사람은 건너뜁니다.)\n",
            "신수민 - 2005-12-30\n",
            "이서영 - 2005-12-25\n",
            "강민주 - 2005-12-14\n",
            "김민경 - 2005-12-02\n",
            "이서영 - 2005-11-12\n",
            "배시은 - 2005-11-02\n",
            "김여원 - 2005-10-31\n",
            "이서진 - 2005-10-28\n",
            "서홍빈 - 2005-10-24\n",
            "김예빈 - 2005-10-19\n"
          ]
        }
      ]
    },
    {
      "cell_type": "markdown",
      "source": [
        "#2. 조원들만 출력"
      ],
      "metadata": {
        "id": "r2LeUYbPxCOa"
      }
    },
    {
      "cell_type": "code",
      "source": [
        "import pandas as pd\n",
        "from datetime import datetime\n",
        "\n",
        "class Node:\n",
        "    def __init__(self, name, birthdate):\n",
        "        self.name = name\n",
        "        self.birthdate = birthdate\n",
        "        self.next = None\n",
        "        self.prev = None\n",
        "\n",
        "class CircularDoublyLinkedList:\n",
        "    def __init__(self):\n",
        "        self.head = None\n",
        "\n",
        "    def append(self, name, birthdate):\n",
        "        new_node = Node(name, birthdate)\n",
        "        if self.head is None:\n",
        "            self.head = new_node\n",
        "            self.head.next = self.head\n",
        "            self.head.prev = self.head\n",
        "        else:\n",
        "            tail = self.head.prev\n",
        "            tail.next = new_node\n",
        "            new_node.prev = tail\n",
        "            new_node.next = self.head\n",
        "            self.head.prev = new_node\n",
        "\n",
        "    def find_by_group(self, group_members):\n",
        "        current = self.head\n",
        "        result = []\n",
        "        while True:\n",
        "            if current.name in group_members:\n",
        "                result.append((current.name, current.birthdate))\n",
        "            current = current.next\n",
        "            if current == self.head:\n",
        "                break\n",
        "        return result\n",
        "\n",
        "df = pd.read_excel(\"birthday.csv.xlsx\")\n",
        "\n",
        "birthday_list = CircularDoublyLinkedList()\n",
        "\n",
        "for index, row in df.iterrows():\n",
        "    name = row[\"이름\"]\n",
        "    birth_raw = row[\"생년월일8자리(예.20040101)\"]\n",
        "\n",
        "    if pd.isna(birth_raw):\n",
        "        continue\n",
        "\n",
        "    if isinstance(birth_raw, (int, float)):\n",
        "        birth_str = str(int(birth_raw))\n",
        "    else:\n",
        "        birth_str = str(birth_raw)\n",
        "    try:\n",
        "        birthday = datetime.strptime(birth_str, \"%Y%m%d\").date()\n",
        "    except ValueError:\n",
        "        print(f\"생일 형식 오류: {birth_str} (이 사람은 건너뜁니다.)\")\n",
        "        continue\n",
        "\n",
        "    birthday_list.append(name, birthday)\n",
        "\n",
        "group_members = [\n",
        "    \"송민서\", \"안수민\", \"오예준\", \"진혜윤\", \"김채민\", \"김예빈\", \"신희영\", \"김선민\",\n",
        "    \"김혜인\", \"김주하\", \"김민주\", \"최가온\", \"배시은\", \"강수아\", \"김서빈\"\n",
        "]\n",
        "\n",
        "friends = birthday_list.find_by_group(group_members)\n",
        "\n",
        "if friends:\n",
        "    for friend in friends:\n",
        "        print(f\"이름: {friend[0]}, 생일: {friend[1]}\")\n",
        "else:\n",
        "    print(\"조원들의 정보가 없습니다.\")\n"
      ],
      "metadata": {
        "colab": {
          "base_uri": "https://localhost:8080/"
        },
        "id": "jEJoquNb1h8D",
        "outputId": "e7bfd082-9afd-49aa-dd22-a95b66ba591c"
      },
      "execution_count": null,
      "outputs": [
        {
          "output_type": "stream",
          "name": "stdout",
          "text": [
            "생일 형식 오류: 20241282 (이 사람은 건너뜁니다.)\n",
            "이름: 강수아, 생일: 2004-11-03\n",
            "이름: 김민주, 생일: 2004-05-17\n",
            "이름: 김민주, 생일: 2004-10-26\n",
            "이름: 김서빈, 생일: 2004-06-28\n",
            "이름: 김예빈, 생일: 2005-10-19\n",
            "이름: 김주하, 생일: 2005-04-17\n",
            "이름: 김채민, 생일: 2005-09-10\n",
            "이름: 김혜인, 생일: 2005-10-01\n",
            "이름: 배시은, 생일: 2005-11-02\n",
            "이름: 송민서, 생일: 2004-11-08\n",
            "이름: 신희영, 생일: 2005-01-26\n",
            "이름: 안수민, 생일: 2003-06-03\n",
            "이름: 오예준, 생일: 2005-07-12\n",
            "이름: 최가온, 생일: 2005-10-08\n"
          ]
        }
      ]
    },
    {
      "cell_type": "markdown",
      "source": [
        "#3_1\n",
        "## X\n",
        "최대 힙에서는 부모노드가 자식노드보다 크거나 같기 때문에, 더 얕은 곳에 있는원소(부모)가 더 깊은 곳에 있는 원소(자식)보다 더 작은 값을 가질 수 없다."
      ],
      "metadata": {
        "id": "HxBVgo7fmN6E"
      }
    },
    {
      "cell_type": "markdown",
      "source": [
        "#3_2\n",
        "##X\n",
        "최대 힙에서 확실히 보장된 것은 부모가 자식보다 크거나 같다는 것 뿐이지 전체 배열이 정렬되는 것은 아니므로 A[n-1]이 제일 작을 수도 아닐 수도 있다."
      ],
      "metadata": {
        "id": "YT__l67Un3_5"
      }
    },
    {
      "cell_type": "markdown",
      "source": [],
      "metadata": {
        "id": "GM3ScPATlpP9"
      }
    },
    {
      "cell_type": "markdown",
      "source": [
        "#3_3\n",
        "## n/2\n",
        "스며내리기: 자식 노드와 비교해서 위치를 바꾸는 작업\n",
        "리프 노드는 자식이 없기 때문에 스며내리기를 할 필요가 없다. A[0...,n-1]에서 n/2부터 n-1까지가 리프 노드이므로 스며내리기를 하지 않아도 되는 노드 수는 n/2개다."
      ],
      "metadata": {
        "id": "bH7j0-X_qOr1"
      }
    },
    {
      "cell_type": "markdown",
      "source": [
        "#3_4\n",
        "##최선, 최악 모두 Θ(n)\n",
        "buildHeap()의 수행 시간은 percolateDown들의 시간을 모두 합친 것으로 총 n/2번 반은 1레벨 이중 4/1은 2레벨 8/1은 3레벨 쭉쭉 가서 가중합을 하면 Θ(n)이 나옴."
      ],
      "metadata": {
        "id": "mYwagJ7CsF5f"
      }
    },
    {
      "cell_type": "markdown",
      "source": [
        "#3_5\n",
        "##간단하다.\n",
        "힙은 완전 이진 트리 구조이고, 배열로 저장되어 있기 때문에, 마지막 원소는 배열의 마지막 인덱스인 A[n-1]에 있다. heap.pop()을 이용하면 된다."
      ],
      "metadata": {
        "id": "ELe54L2Uuaxf"
      }
    },
    {
      "cell_type": "markdown",
      "source": [
        "#3_6\n",
        "##더 효율적이지 않음\n",
        "아래에서부터 시작하는 스며내리기는 O(n)이고, 위에서부터 시작하는 스며오르기는 O(n logn)이기 때문이다."
      ],
      "metadata": {
        "id": "4PyQDicMvO2S"
      }
    },
    {
      "cell_type": "markdown",
      "source": [
        "#3_7\n",
        "##스며올리기를 해야함\n",
        "값이 증가된 노드를 현재 위치로 잡고 부모노드와 값과 비교하고, 부모보다 값이 크면 둘의 위치를 바꾸는 방식으로 부모보다 작거나 같아지거나, 루트까지 도달하면 과정 종료다."
      ],
      "metadata": {
        "id": "7SHujZ9DvyaG"
      }
    },
    {
      "cell_type": "markdown",
      "source": [
        "#4. LeetCode 703.Kth Largest Element in Stream"
      ],
      "metadata": {
        "id": "fha7dFsN44fq"
      }
    },
    {
      "cell_type": "code",
      "source": [
        "import heapq\n",
        "\n",
        "class KthLargest:\n",
        "    def __init__(self, k, nums):\n",
        "        self.k = k\n",
        "        self.min_heap = []\n",
        "\n",
        "        for num in nums:\n",
        "            self.add(num)\n",
        "\n",
        "    def add(self, val):\n",
        "        heapq.heappush(self.min_heap, val)\n",
        "        if len(self.min_heap) > self.k:\n",
        "            heapq.heappop(self.min_heap)\n",
        "        return self.min_heap[0]"
      ],
      "metadata": {
        "id": "AZe-UKLo5AHL"
      },
      "execution_count": null,
      "outputs": []
    }
  ]
}